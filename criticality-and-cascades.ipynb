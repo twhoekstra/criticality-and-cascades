{
 "cells": [
  {
   "cell_type": "markdown",
   "metadata": {},
   "source": [
    "# Criticality and Cascades\n",
    "\n",
    "#### Table of Contents:\n",
    "1. Up-down states in the cerebral cortex\n",
    "2. Critical cascade in a (neural) network\n",
    "3. The equilibrium parameter\n",
    "\n",
    "#### Learning Goals\n",
    "1. Understand what criticality is and how it arises.\n",
    "2. Know where criticality appears in nature and how it might applied."
   ]
  },
  {
   "cell_type": "code",
   "execution_count": null,
   "metadata": {},
   "outputs": [],
   "source": []
  },
  {
   "cell_type": "code",
   "execution_count": 1,
   "metadata": {},
   "outputs": [],
   "source": [
    "from brian2 import *\n",
    "import matplotlib.pyplot as plt"
   ]
  },
  {
   "cell_type": "markdown",
   "metadata": {},
   "source": [
    "## A model for critical cascades\n",
    "\n",
    "### Why make computer model?\n",
    "\n",
    "These phenomena in the cortex lend themselves to research *in-silico*, using computers to simulated groups of neurons. Such simulations allow researchers precise control over various parameters, such as the number of neurons, how they are connected, and the strength of those connections. Using this control, these parameters can be precisely manipulated investigate how they influence the occurrence, propagation, and characteristics of criticality. As you might know, such control is difficult to achieve in biological experiments.\n",
    "\n",
    "One of the main goals for researchers in this field is the development of mathematical models and theories about neural processes like the emergence of critical cascades. Simulations provide a means to rigorously test these hypotheses and models. By creating computational models based on their theoretical understanding of neural avalanches, researchers can validate their model by comparing their predictions to the real thing. Such models often allow for much deeper insights into the dynamics of neural avalanches.\n",
    "\n",
    "### The Leaky Integrate and Fire Neuron\n",
    "There are various types artificial neural network one category being **spiking neural networks (SNNs)**. These networks model the behavior of individual neurons and their interactions through action potentials or **spikes**, similar to real neurons in the brain.\n",
    "\n",
    "**Leaky Integrate and Fire (LIF)** neurons are a type of biological neuron model used to build SNNs. LIF neurons are frequently employed in research due to their simplicity and ability to capture essential neural dynamics. LIF neurons operate by continuously integrating incoming electrical signals over time, with a gradual leakage of charge. When the accumulated charge reaches a predefined firing threshold, the neuron generates a spike, representing the firing of an action potential. Following a spike, the neuron resets, simulating the refractory period observed in real neurons.\n",
    "\n",
    "> <p style=\"color:blue;\"><font size=\"3\"> 🖥️ Demo  </font></p>\n",
    "> \n",
    "> The code below defines a working LIF neuron written and simulated using the [Brain Simulator](https://briansimulator.org/) package. Run the code below to setup a single LIF neuron, which recieves an input pulse at 20, 60, and 80 m."
   ]
  },
  {
   "cell_type": "code",
   "execution_count": 2,
   "metadata": {},
   "outputs": [],
   "source": [
    "defaultclock.dt = 0.1 * ms\n",
    "\n",
    "neuron = NeuronGroup(1,\n",
    "                      \"\"\"\n",
    "                      dv/dt = -v/tau : volt (unless refractory)\n",
    "                      \"\"\",\n",
    "                      threshold=\"v > theta\",\n",
    "                      reset=\"v = V_r\",\n",
    "                      refractory=2 * ms,\n",
    "                      method=\"exact\",\n",
    ")\n",
    "\n",
    "# Input spike paramaters\n",
    "times = array([20, 60, 80]) * ms\n",
    "\n",
    "inp = SpikeGeneratorGroup(1,np.zeros_like(times), times)\n",
    "input_synapse = Synapses(inp, neuron, on_pre=\"v += strength\", delay=0 * ms)\n",
    "input_synapse.connect()\n",
    "\n",
    "# Record voltage\n",
    "voltage_monitor = StateMonitor(neuron, 'v', record=True)\n",
    "\n",
    "store()"
   ]
  },
  {
   "cell_type": "markdown",
   "metadata": {},
   "source": [
    "> <p style=\"color:blue;\"><font size=\"3\"> 🖥️ Demo  </font></p>\n",
    "> \n",
    "> The code above only needs to be run once. The model is stored using the `store` function in the last line of the code above. Now, using the code below, the model is given parameters and simulated for 100 ms, after which the three resulting spikes are plotted. Note that the parameter `strength` can be changed, changing the strength of the pulses applied to the neuron. Try increasing and decreasing this value. Also consider comparing it to `theta`, i.e. what happens if `strength` > `theta` and vice-versa?"
   ]
  },
  {
   "cell_type": "code",
   "execution_count": 3,
   "metadata": {},
   "outputs": [
    {
     "data": {
      "text/plain": [
       "Text(0, 0.5, 'Voltage [mV]')"
      ]
     },
     "execution_count": 3,
     "metadata": {},
     "output_type": "execute_result"
    },
    {
     "data": {
      "image/png": "[encoded data removed]",
      "text/plain": [
       "<Figure size 640x480 with 1 Axes>"
      ]
     },
     "metadata": {},
     "output_type": "display_data"
    }
   ],
   "source": [
    "# neuron parameters\n",
    "tau = 20 * ms\n",
    "theta = 20 * mV\n",
    "V_r = 10 * mV\n",
    "\n",
    "# Input parameters\n",
    "strength = 30 * mV\n",
    "\n",
    "restore()\n",
    "\n",
    "# Run for 100 ms\n",
    "run(100 * ms)\n",
    "\n",
    "plt.plot(voltage_monitor.t / ms, voltage_monitor.v.T / mV)\n",
    "plt.xlabel('Time [ms]')\n",
    "plt.ylabel('Voltage [mV]')"
   ]
  },
  {
   "cell_type": "markdown",
   "metadata": {},
   "source": [
    "\n",
    "LIF neurons are favored in research because of their computational efficiency and mathematical tractability, which make them suitable for simulating large-scale neural networks and studying fundamental principles of information processing. By adjusting parameters like the leak rate and firing threshold, LIF neurons can be fine-tuned to reproduce various neural behaviors. These neurons can then be assembled into networks can perform tasks ranging from signal processing, to memory storage, and pattern recognition, offering insights into the computational capabilities of the brain.\n",
    "\n",
    "## Recurrent Neural Networks\n",
    "\n",
    "<center>\n",
    "<figure>\n",
    "<img src=\"images/recurrent_neural_network_kanders.png\" style=\"width:80%\">\n",
    "<figcaption align = \"center\"><i> Recurrent Neural Network. Adapted from Kanders et. al. </i></figcaption>\n",
    "</figure>\n",
    "</center>\n"
   ]
  },
  {
   "cell_type": "code",
   "execution_count": 4,
   "metadata": {},
   "outputs": [],
   "source": [
    "from utils.simulate import RecurrentNeuralNetwork"
   ]
  },
  {
   "cell_type": "code",
   "execution_count": 5,
   "metadata": {},
   "outputs": [
    {
     "data": {
      "text/plain": [
       "<utils.simulate.RecurrentNeuralNetwork at 0x1a9500cde80>"
      ]
     },
     "execution_count": 5,
     "metadata": {},
     "output_type": "execute_result"
    }
   ],
   "source": [
    "rnn = RecurrentNeuralNetwork(n=1000)\n",
    "rnn.store()"
   ]
  },
  {
   "cell_type": "code",
   "execution_count": 6,
   "metadata": {},
   "outputs": [
    {
     "name": "stdout",
     "output_type": "stream",
     "text": [
      "Starting simulation at t=0. s for a duration of 1.2 s\n",
      "1.2 s (100%) simulated in 1s\n"
     ]
    },
    {
     "data": {
      "text/plain": [
       "1"
      ]
     },
     "execution_count": 6,
     "metadata": {},
     "output_type": "execute_result"
    }
   ],
   "source": [
    "rnn.set_w(11)\n",
    "rnn.sim(1200)"
   ]
  },
  {
   "cell_type": "code",
   "execution_count": null,
   "metadata": {},
   "outputs": [
    {
     "data": {
      "text/plain": [
       "(<Figure size 640x480 with 2 Axes>,\n",
       " array([<Axes: xlabel='Time [ms]', ylabel='Neuron'>,\n",
       "        <Axes: ylabel='Voltage [mV]'>], dtype=object))"
      ]
     },
     "execution_count": 7,
     "metadata": {},
     "output_type": "execute_result"
    }
   ],
   "source": [
    "rnn.plot_voltage()"
   ]
  },
  {
   "cell_type": "code",
   "execution_count": null,
   "metadata": {},
   "outputs": [],
   "source": [
    "Gedenkt door andere teams:\n",
    "- Wat zijn up/down states\n",
    "- Wat is de biological function (in slaap)\n",
    "- Simuleren met potential spikes\n",
    "- Modeleren met neuronen en kijken naar spikes"
   ]
  },
  {
   "cell_type": "code",
   "execution_count": null,
   "metadata": {},
   "outputs": [],
   "source": []
  },
  {
   "cell_type": "markdown",
   "metadata": {},
   "source": [
    "## AI Statement\n",
    "\n",
    "## References"
   ]
  },
  {
   "cell_type": "code",
   "execution_count": null,
   "metadata": {},
   "outputs": [],
   "source": []
  }
 ],
 "metadata": {
  "kernelspec": {
   "display_name": "Python 3 (ipykernel)",
   "language": "python",
   "name": "python3"
  },
  "language_info": {
   "codemirror_mode": {
    "name": "ipython",
    "version": 3
   },
   "file_extension": ".py",
   "mimetype": "text/x-python",
   "name": "python",
   "nbconvert_exporter": "python",
   "pygments_lexer": "ipython3",
   "version": "3.9.16"
  }
 },
 "nbformat": 4,
 "nbformat_minor": 4
}
